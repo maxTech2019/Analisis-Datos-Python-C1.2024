{
 "cells": [
  {
   "cell_type": "markdown",
   "id": "92a7f12a-9528-4abb-bb01-de77c2e63b28",
   "metadata": {},
   "source": [
    "# Análisis Descriptivo de datos."
   ]
  },
  {
   "cell_type": "markdown",
   "id": "740dc221-6bfc-43a6-a50b-400bd685f358",
   "metadata": {},
   "source": [
    "<p>El <b>análisis descriptivo  de datos</b> es una fase|etapa del procesamiento de datos. Esto significa sintetizar <i>datos históricos</i>, para obtener <i>información útil</i>. También se utiliza para preparar datos para su posterior análisis.</p> "
   ]
  },
  {
   "cell_type": "markdown",
   "id": "621a7801-b6e7-429e-b094-38f5313c8e35",
   "metadata": {},
   "source": [
    "<img src=\"./imagen/analisis-descriptivo.png\" />"
   ]
  },
  {
   "cell_type": "markdown",
   "id": "64bf9fa0-94f7-4d00-8d3a-7bf18a08dadc",
   "metadata": {},
   "source": [
    "## Recuperación de datos."
   ]
  },
  {
   "cell_type": "markdown",
   "id": "ed30f984-3632-4672-b003-f0b84b7ed4da",
   "metadata": {},
   "source": [
    "<p>Consiste en <b>obtener los datos</b> encontrados en <i>formatos estructurados</i>(como bases de datos y tablas de datos) o algunos <i>formatos no estructurados</i> (como páginas web, correos electrónicos y documentos de word).</p>"
   ]
  },
  {
   "cell_type": "markdown",
   "id": "b70cc753-6292-4318-8ca0-333bf6ce164c",
   "metadata": {},
   "source": [
    "<img src=\"./imagen/recuperacion-datos.png\" />"
   ]
  },
  {
   "cell_type": "markdown",
   "id": "e4d26e2c-bb5c-460e-b61c-d1ff11ff5415",
   "metadata": {},
   "source": [
    "## Revisión de datos e identificación de los problemas."
   ]
  },
  {
   "cell_type": "markdown",
   "id": "81a16bdf-9705-4a4e-ba1f-c29b457aa407",
   "metadata": {},
   "source": [
    "<p>El objetivo en este punto es comprender cada una de las columnas o características individuales. También es donde formulamos preguntas interesantes sobre el conjunto de datos a analizar</p>"
   ]
  },
  {
   "cell_type": "markdown",
   "id": "169e0b6c-2d80-41d0-8cf5-3aff25bb9e47",
   "metadata": {},
   "source": [
    "<ul>\n",
    "    <li>¿Qué características son relevantes?</li>\n",
    "    <li>¿Existe alguna tendencia creciente o decreciente?</li>\n",
    "    <li>¿Hay valores faltantes?</li>\n",
    "</ul>"
   ]
  },
  {
   "cell_type": "markdown",
   "id": "1946ecb5-2366-443d-8fc0-21b6468d1cbd",
   "metadata": {},
   "source": [
    "<img src=\"./imagen/analizando-tendencias.png\" />"
   ]
  },
  {
   "cell_type": "markdown",
   "id": "d4f4cb4b-fa5e-4e8f-b284-9a14a1f6cc1d",
   "metadata": {},
   "source": [
    "## Procesamiento de datos."
   ]
  },
  {
   "cell_type": "markdown",
   "id": "b8de4cfe-1821-4a44-be57-9fd144326731",
   "metadata": {},
   "source": [
    "<p>Consiste en manipular los datos para procesarlos y que así sean adecuados para su tratamiento matemático y trazado de gráficos.</p>"
   ]
  },
  {
   "cell_type": "markdown",
   "id": "6fa73a23-4150-4dd0-bc46-a8272fc12d65",
   "metadata": {},
   "source": [
    "<ul>\n",
    "    <li>Eliminar o sustituir valores</li>\n",
    "    <li>Deshacerse de valores de relleno</li>\n",
    "    <li>Filtrar datos</li>\n",
    "    <li>Cambiar tipos de datos</li>\n",
    "    <li>Eliminar redundacias</li>\n",
    "    <li>Fusionar datos de diferente fuente</li>\n",
    "</ul>"
   ]
  },
  {
   "cell_type": "markdown",
   "id": "e91e330b-c8e2-4910-a350-f28e801b3272",
   "metadata": {},
   "source": [
    "<img src=\"./imagen/procesamiento-datos.png\" />"
   ]
  },
  {
   "cell_type": "markdown",
   "id": "44b794e5-6ec8-49f0-b0d4-b81f848a7cf7",
   "metadata": {},
   "source": [
    "## Exploración y Visualización de datos."
   ]
  },
  {
   "cell_type": "markdown",
   "id": "afb718bd-2d1d-4c83-bfa1-2aefca861cac",
   "metadata": {},
   "source": [
    "<p>Encontrar patrones en los datos, resumir las caraterísticas y comprender las relaciones entre las diversas características.</p>"
   ]
  },
  {
   "cell_type": "markdown",
   "id": "9f3eb76a-d590-4d45-a752-f8e58660ecf9",
   "metadata": {},
   "source": [
    "<img src=\"./imagen/exploracion-datos.png\" />"
   ]
  },
  {
   "cell_type": "markdown",
   "id": "c84e9441-992a-4373-a416-629860a7b357",
   "metadata": {},
   "source": [
    "## Presentación y publicación del análisis."
   ]
  },
  {
   "cell_type": "markdown",
   "id": "e25e73bb-fd50-4bf8-9dbe-a422e4439c01",
   "metadata": {},
   "source": [
    "<p>Esta es la parte final y conclusiva de nuestra investigación, en este paso presentamos de manera ordenada y comprensible los datos para llegar a las conclusiones sobre nuestro análisis.</p>"
   ]
  },
  {
   "cell_type": "markdown",
   "id": "5bcd83b3-0d7b-4888-b5f5-07619dd31966",
   "metadata": {},
   "source": [
    "<img src=\"./imagen/presentacion-datos.png\" />"
   ]
  },
  {
   "cell_type": "markdown",
   "id": "4fffa9b1-0000-4a32-99e3-5813b48c5317",
   "metadata": {},
   "source": [
    "# Gracias por su atención."
   ]
  }
 ],
 "metadata": {
  "kernelspec": {
   "display_name": "Python 3 (ipykernel)",
   "language": "python",
   "name": "python3"
  },
  "language_info": {
   "codemirror_mode": {
    "name": "ipython",
    "version": 3
   },
   "file_extension": ".py",
   "mimetype": "text/x-python",
   "name": "python",
   "nbconvert_exporter": "python",
   "pygments_lexer": "ipython3",
   "version": "3.11.7"
  }
 },
 "nbformat": 4,
 "nbformat_minor": 5
}
